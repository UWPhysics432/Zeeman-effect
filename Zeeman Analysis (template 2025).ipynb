{
 "cells": [
  {
   "cell_type": "markdown",
   "metadata": {},
   "source": [
    "# Individual Analysis for the Zeeman Effect\n",
    "\n",
    "Use this template to carry out the analysis tasks for the experiment.  You may need to consult the documentation for different Python packages.  Also recommended: the [Whirlwind Tour of Python](https://jakevdp.github.io/WhirlwindTourOfPython/) and the [Python Data Science Handbook](https://jakevdp.github.io/PythonDataScienceHandbook/) both by Jake VanderPlas.\n",
    "\n",
    "We will also be using [**LMFit**](https://lmfit.github.io/lmfit-py/) for curve fitting \n",
    "and the [Uncertainties](https://pythonhosted.org/uncertainties/) package for calculating statistical uncertainty. "
   ]
  },
  {
   "cell_type": "markdown",
   "metadata": {},
   "source": [
    "Import a range of useful Python Libraries:"
   ]
  },
  {
   "cell_type": "code",
   "execution_count": null,
   "metadata": {},
   "outputs": [],
   "source": [
    "# Run this cell with Shift-Enter, and wait until the asterisk changes to a number, i.e., [*] becomes [1]\n",
    "import numpy as np\n",
    "import scipy.constants as const\n",
    "import uncertainties as unc\n",
    "import uncertainties.unumpy as up\n",
    "import matplotlib.pyplot as plt\n",
    "import pandas as pd\n",
    "%matplotlib inline"
   ]
  },
  {
   "cell_type": "markdown",
   "metadata": {},
   "source": [
    "## Summary of tasks\n",
    "\n",
    "### Prior to working on this notebook\n",
    "\n",
    "Make sure you understand the concept of the <i>free spectral range</i> and the general idea of how to obtain a wavelength or energy shift from the Zeeman spectrum data.\n",
    "\n",
    "Calculate the $g$ factors and the energys shifts $\\Delta E_m$ for the three different Hg transitions studied: the 541 nm green line, and the two yellow lines, 577 nm and 579 nm.  Your energy shift predictions should be in units of $\\mu_BB$.\n",
    "\n",
    "You will need the above calculations to check against the measures and analyzed values.\n",
    "\n",
    "### Tasks for this notebook\n",
    "\n",
    "**Before analyzing the scans**\n",
    "\n",
    "Read in the Fabry-Perot mirror position data.  Calculate the mirror spacing and the free spectral range in units of hertz.\n",
    "\n",
    "Based on the magnet calibration curve coefficients, create a magnet calibration function that converts magnet current (in amperes) to magnetic field (in tesla).  Your calibration should propagate the uncertainty in the current to the uncertainty in the B-field.\n",
    "\n",
    "Combine the magnetic field $B$ with the Bohr magneton $\\mu_B$ to obtain an energy unit $\\mu_BB$ for the green line with non-zero magnetic field (typically taken with magnet current about 3.6 A) and for the yellow lines with non-zero filed (typically about 1.8 A).  This unit sets the scale for the magnetic energy. HINT: use the value of $\\mu_B$ in Hz/T.  Then you don't need to convert FSR to actual energy units.\n",
    "\n",
    "**For the green lines**\n",
    "\n",
    "Read in two data files for green: $I=0$ and $I\\neq0$ with no polarizer.  Trim the data sets to cut off partial patterns and the reset portion.  Plot the two data sets on a single graph, vertically separated and scaled so that the scans can be easily compared by eye.  The x axis can be the array index.\n",
    "\n",
    "Analyze the $I=0$ data set as follows:\n",
    "\n",
    "1. Smooth the data set with SciPy `gaussian_filter1d()`.  Use minimal gaussian width to preserve scan detail.\n",
    "2. Locate the central peaks of each cycle, using the SciPy `find_peaks()` function.  From the return result of `find_peaks()` determine the average FWHM (units of array index) and the average separation of the peaks.  Plot this in a way that shows the measured widths and peak positions. \n",
    "3. The ratio of the average separation to the FWHM gives the instrument <i>finesse</i>.  Calculate this.\n",
    "\n",
    "Analyze the $I\\neq0$ scan with no polarizer, as follows:\n",
    "\n",
    "1. Smooth the data set with SciPy `gaussian_filter1d()`.  Use minimal gaussian width (e.g, 2 to 4) to preserve scan detail.\n",
    "2. Apply the `find_peaks()` function to all of the prominent peaks in the scan.  There should be 9 peaks per cluster for a total of 36 identified peaks.  Plot the data with markers to locate the identified peak positions to check that you got the correct peaks.\n",
    "3. Locate the central peaks of each cycle.  These peaks will be used to calibrate the scan.  They can be accessed from the `peaks` array returend by `find_peaks()` with a slice that starts with the first central peak (e.g., at index 4) and skips by the number of peaks between the first central peak and the second central peak (e.g., by 9).  For example `peaks[4::9]` would grab the locations of the central peaks as described.\n",
    "4. Number the central peak positions sequentially (first central peak is 1, second is 2, etc.). Plot and fit the peak number versus the measured position with a 3rd order polynomial.  This will create a nonlinear calibration function that converts the array indices to units of the free spectral range, and it corrects for the hysteresis in Fabry-Perot scan.\n",
    "5. Replot the scan in terms of free-spectral-range units.  It should look more uniform along the x axis.  You will need to generate an x-axis array that has the same indices as the scan array.\n",
    "6. Convert the peak locations to units of the free spectral range (FSR).  Create a table (DataFrame table is nice) that lists the 36 peak positions in terms of `peaks` number and FSR.  Check that the central peaks are located at FSR units of 1.0, 2.0, etc. (or very close).\n",
    "7. Calculate the separation between each satellite peak and its associated central peak.  Combine the separation values for the same satellite from each cluster to make an average separation from the center for that satellite. For example in the first cluster, there is a satellite immediately to the left, separated by a certain distance.  In every other cluster there is the same satellite with the same separation.  Combine the separations from all of these to get the average separation for that satellite.  These separations will all be in units of the free spectral range, and be fractions (positive and negative) of the free spectral range.\n",
    "8. Convert the separations in FSR units to separations in $\\mu_BB$ energy units.  You will need a conversion factor based on how many of $\\mu_BB$ fit into one FSR.\n",
    "9. Finally make a table that lists the separations in terms of satellite number, separation in FSR, and separation in $\\mu_BB$, and include a column of the theoretical separation in units of $\\mu_BB$ to compare. \n",
    "\n",
    "**For the yellow lines**\n",
    "\n",
    "Read in two data files for yellow: $I=0$ and $I\\neq0$ with no polarizer.  Trim the data sets to cut off partial patterns and the reset portion.  Plot the two data sets on a single graph, vertically separated and scaled so that the scans can be easily compared by eye.  The x axis can be the array index.  (It is helpful to align the central peaks from the two scans to identify wich peaks are from 577 nm and which are from 579 nm.)\n",
    "\n",
    "Analyze the $I\\neq0$ scan with no polarizer in the same way as above for steps 1 & 2.  There will be about 24 total peaks.\n",
    "\n",
    "Then, separate the peak sets into two groups, one group of about 12 peaks will correspond to the 577 nm line, and the other (about) 12 will correspond to the 579 nm line.  These groups must be analyzed separately.  For each group, follow the plan of steps 3 through 9, except you will have clusters of 3 peaks instead of 9 peaks to sort out.\n",
    "\n"
   ]
  },
  {
   "cell_type": "markdown",
   "metadata": {},
   "source": [
    "## Free spectral range\n",
    "\n",
    "Calculate the free spectral range of the Fabry-Perot etalon in hertz (Hz), and print it out in gigahertz (GHz).  The formula is\n",
    "\n",
    "$$\\text{FSR} = \\frac{c}{2d}$$\n",
    "\n",
    "where $d$ is the mirror separation, and $c$ is the speed of light."
   ]
  },
  {
   "cell_type": "code",
   "execution_count": null,
   "metadata": {},
   "outputs": [],
   "source": [
    "## Read in the mirror positions\n",
    "\n",
    "Mirror_sep = pd.read_csv() \n",
    "\n",
    "## Calculate the differences\n",
    "d_array = \n",
    "\n",
    "## Calculate then mean value of the differences and the \n",
    "## standard deviation of the mean of the differences.\n",
    "## Convert values to meters\n",
    "d = \n",
    "sigma_d = \n",
    "\n",
    "## make an uncertainty object\n",
    "ud = unc.ufloat(d,sigma_d)\n",
    "\n",
    "## Calculate the free spectral range in Hz \n",
    "## Use the scipy constants \"const.c\"\n",
    "\n",
    "uFSR = \n",
    "\n",
    "## Print out the mirror separation and the FSR\n",
    "print('Mirror separation: {:.2uP} mm'.format(ud/const.milli))\n",
    "print('Free spectral Range: {:.2uP} GHz'.format(uFSR/const.giga))"
   ]
  },
  {
   "cell_type": "markdown",
   "metadata": {},
   "source": [
    "## Magnetic Field\n",
    "\n",
    "From the calibration curve shown in the instructions, create a polynomial function to convert current to magnetic field in Tesla.\n",
    "\n",
    "Advice: look up `np.poly1d()`.  This allows you to build a function from a list of coefficients.  **Make sure you enter them in the correct order!**"
   ]
  },
  {
   "cell_type": "code",
   "execution_count": null,
   "metadata": {},
   "outputs": [],
   "source": [
    "# Coefficiants from fit to magnetic field data come from from instructions \n",
    "coeffs = [] # values give millitesla\n",
    "\n",
    "# poly1d() creates a polynomial function\n",
    "#\n",
    "# Convert coefficients to give field in tesla with 'const.milli'\n",
    "B_coeff = \n",
    "B = np.poly1d(B_coeff)"
   ]
  },
  {
   "cell_type": "markdown",
   "metadata": {},
   "source": [
    "Use the finction to calculate the field for the two different scan files"
   ]
  },
  {
   "cell_type": "code",
   "execution_count": null,
   "metadata": {},
   "outputs": [],
   "source": [
    "# Green peaks current & field\n",
    "I_green = # current in green line measurement, Amps\n",
    "sigma_I_green = # Amps\n",
    "\n",
    "# Make uncertainty object\n",
    "unc_I_green = unc.ufloat(I_green,sigma_I_green)\n",
    "\n",
    "B_green = B(unc_I_green)\n",
    "\n",
    "print('Field strength at {:.1uP} A = {:.2uP} mT'.format(unc_I_green,B_green/const.milli))"
   ]
  },
  {
   "cell_type": "code",
   "execution_count": null,
   "metadata": {},
   "outputs": [],
   "source": [
    "# Yellow peaks current & field\n",
    "# Copy from above\n",
    "\n",
    "B_yellow = B(unc_I_yellow)\n",
    "\n",
    "print('Field strength at {:.1uP} A = {:.2uP} mT'.format(unc_I_yellow,B_yellow/const.milli))"
   ]
  },
  {
   "cell_type": "markdown",
   "metadata": {},
   "source": [
    "### Conversion factors\n",
    "\n",
    "Under the SciPy constants, one can obtain the Bohr magneton in unist of Hz/T.  This allows $\\mu_BB$ to be expressed in frequency units, which are the same units as the FSR."
   ]
  },
  {
   "cell_type": "code",
   "execution_count": null,
   "metadata": {},
   "outputs": [],
   "source": [
    "print('mu_B = {:.6g} Hz/T'.format(const.value(u'Bohr magneton in Hz/T')))"
   ]
  },
  {
   "cell_type": "markdown",
   "metadata": {},
   "source": [
    "Create conversion factors to convert FSR units to units of $\\mu_BB$.  These will be used later."
   ]
  },
  {
   "cell_type": "code",
   "execution_count": null,
   "metadata": {},
   "outputs": [],
   "source": [
    "conv_fact_green = \n",
    "print('Conversion factor for green lines (Free spectral range in units of B*mu_B): {:.1uP}'.format(conv_fact_green))\n",
    "\n",
    "conv_fact_yellow = \n",
    "print('Conversion factor for yellow lines (Free spectral range in units of B*mu_B): {:.1uP}'.format(conv_fact_yellow))"
   ]
  },
  {
   "cell_type": "markdown",
   "metadata": {},
   "source": [
    "## Green Line Analysis\n",
    "\n",
    "### Read in the data\n",
    "\n",
    "Read important data files into Pandas \"DataFrames\" "
   ]
  },
  {
   "cell_type": "code",
   "execution_count": null,
   "metadata": {},
   "outputs": [],
   "source": [
    "# df = pd.read_csv(file,skiprows=15)  # skiprows skips header information that is produced by the oscilloscope\n",
    "\n",
    "# Collect the data sets into dataframes. Use the example below, which includes the current as part of the file name\n",
    "Green_B0 = pd.read_csv('Green_B0.csv', skiprows=15) \n",
    "Green_3612 = pd.read_csv('Green_3612A_no_polarizer.csv', skiprows=15) "
   ]
  },
  {
   "cell_type": "markdown",
   "metadata": {},
   "source": [
    "Graph the data to see what it looks like.  Cell below sets defaults for graphs."
   ]
  },
  {
   "cell_type": "code",
   "execution_count": null,
   "metadata": {},
   "outputs": [],
   "source": [
    "# Use base library to set up plot size and default font size\n",
    "# Only need to do this once in a notebook\n",
    "import matplotlib as mpl\n",
    "mpl.rcParams['figure.figsize'] = 12.0,8.0  # Roughly 12 cm wde by 8 cm high\n",
    "mpl.rcParams['font.size'] = 12.0 # Use 12 point font"
   ]
  },
  {
   "cell_type": "markdown",
   "metadata": {},
   "source": [
    "### Normalize the data sets\n",
    "\n",
    "Adjust the data sets to normalize the heights to the maximum height and trim the indices to select only the useful range of data.  This is best done by eye: plot the data, then pick a start and end for the slice, replot, and iterate the slice until it looks good.  To normalize an array `ydata` to make all values lie between 0 and 1, you can do this:\n",
    "```\n",
    "y_norm = (ydata - ydata.min())/(ydata.max()-ydata.min())\n",
    "```\n",
    "\n",
    "Hint: make the above into a function you can reuse!"
   ]
  },
  {
   "cell_type": "code",
   "execution_count": 12,
   "metadata": {},
   "outputs": [
    {
     "data": {
      "image/png": "[encoded data removed]",
      "text/plain": [
       "<Figure size 864x576 with 1 Axes>"
      ]
     },
     "metadata": {
      "needs_background": "light"
     },
     "output_type": "display_data"
    }
   ],
   "source": [
    "# Build normalized and trimmed data: normalize-scale and slice the data sets\n",
    "# Slice found by eye with iteration on plot\n",
    "# Put into new numpy array to reset indices to start at zero\n",
    "\n",
    "def normalize_array(ydata):\n",
    "    '''\n",
    "    Normalizes data set to lie within [0,1] range\n",
    "    '''\n",
    "    ## You fill in ##\n",
    "    return normed_data\n",
    "\n",
    "## Make sure you have a clean slice, then normalize and save\n",
    "gr_0 = \n",
    "gr_B =\n",
    "\n",
    "## Then plot\n",
    "## Note: no use of x-array.  Use of indices makes setting slice easier\n",
    "plt.xlabel(r'Time (index)')\n",
    "plt.ylabel(r'Ch 1 (normalized)')\n",
    "## Offsets gr_0\n",
    "plt.plot(1.0+gr_0,'-', label='Green line, 0 A')\n",
    "plt.plot(gr_B,'-', label='Green line, 3.612 A')\n",
    "plt.legend() \n",
    "plt.grid(); \n",
    "\n",
    "# The picture below is an example, but the upper I=0 trace has not been trimmed."
   ]
  },
  {
   "cell_type": "markdown",
   "metadata": {},
   "source": [
    "### Green, no magnet current\n",
    "\n",
    "Analyze this by finding peaks and their FWHM.  Use to calculate the instrument *finesse*.\n",
    "\n",
    "Hint: use function for finding and plotting peaks from the HD spectrum lab. You may need to modify it to deal with these different data sets."
   ]
  },
  {
   "cell_type": "code",
   "execution_count": null,
   "metadata": {},
   "outputs": [],
   "source": [
    "## Function to locate the peaks, plot them, and return the important data\n",
    "from scipy.signal import find_peaks\n",
    "\n",
    "## function to smooth data with gaussian convolution.\n",
    "from scipy.ndimage import gaussian_filter1d\n",
    "\n",
    "def find_and_plot_peaks(ydata, title='Data', makeplot=True, min_width=50, min_dist=200, rel_prom=0.5, smoothing=2):\n",
    "    '''\n",
    "    Function locates peaks using SciPy.signal find_peaks() and plots\n",
    "    the results (optionally).  Returns two arrays: 'peaks' which holds\n",
    "    the index of each peak maximum and 'widths' which holds the FWHM of\n",
    "    each peak.\n",
    "    '''\n",
    "    # Below does the work.  The prominence parameter 'rel_prom' makes the function only look \n",
    "    # for peaks higher than halfway up the tallest peak.\n",
    "    \n",
    "    smooth_data = gaussian_filter1d(ydata,smoothing)\n",
    "\n",
    "    peaks, pk_props = find_peaks(smooth_data, width = min_width, distance=min_dist, prominence=ydata.max()*rel_prom)\n",
    "\n",
    "    ix = 0\n",
    "    print('Peak  Loc   Width   Height')\n",
    "    for pk, prop in zip(peaks, pk_props['widths']): \n",
    "        ix += 1\n",
    "        print('{:3d}  {:4d} {:7.1f}  {:6.2f}'.format(ix, pk, prop, ydata[pk]))\n",
    "\n",
    "    if makeplot:\n",
    "        plt.grid()\n",
    "        plt.title('Peak finding for '+title)\n",
    "        plt.ylabel(r'Intensity (normalized)')\n",
    "        plt.xlabel(r'Array index')\n",
    "        plt.plot(ydata,'-',label='Data')\n",
    "        plt.plot(peaks, ydata[peaks],'o', color='C1', label='Locations')\n",
    "        plt.hlines(y=pk_props['width_heights'], xmin=peaks-pk_props['widths']/2, \n",
    "                   xmax=peaks+pk_props['widths']/2, color = 'C3', label='Widths')\n",
    "        plt.legend();\n",
    "    \n",
    "    return peaks, pk_props['widths']"
   ]
  },
  {
   "cell_type": "code",
   "execution_count": null,
   "metadata": {},
   "outputs": [],
   "source": [
    "# Smoothing function applied to improve peak-center location\n",
    "# You will need to set parameters as well as data file\n",
    "\n",
    "peaks,widths = find_and_plot_peaks(gr_B,min_width=10,min_dist=50,title='Green line with I=3.6A')"
   ]
  },
  {
   "cell_type": "markdown",
   "metadata": {},
   "source": [
    "### Find the average peak spacing\n",
    "\n",
    "Use a line fit with the peak position vs. peaks labeled 1, 2, 3, 4, as done in earlier labs.\n"
   ]
  },
  {
   "cell_type": "code",
   "execution_count": null,
   "metadata": {},
   "outputs": [],
   "source": [
    "from lmfit.models import LinearModel\n",
    "\n",
    "line = LinearModel()\n",
    "\n",
    "## Recommended:\n",
    "## Make a function to do the work, with model as a passed object.\n",
    "## The return is the fit parameters structure\n",
    "\n",
    "def model_fit_and_plot(xdata, ydata, model=LinearModel()):\n",
    "    '''\n",
    "    Fit a line or curve, and plot/show the fit results.\n",
    "    The function returns a parameters object with the fit parameters\n",
    "    '''\n",
    "    # Complete the function\n",
    "    return model_fit.params"
   ]
  },
  {
   "cell_type": "markdown",
   "metadata": {},
   "source": [
    "Use the above function to fit the line"
   ]
  },
  {
   "cell_type": "code",
   "execution_count": null,
   "metadata": {},
   "outputs": [],
   "source": [
    "## Call model_fit_and_plot()\n",
    "## You will need a list of whole numbers from 1 to the number of peaks as the x-axis\n",
    "\n",
    "gr0_line = model_fit_and_plot()"
   ]
  },
  {
   "cell_type": "markdown",
   "metadata": {},
   "source": [
    "From the fit, calculate the average peak spacing and the instrument finesse."
   ]
  },
  {
   "cell_type": "code",
   "execution_count": null,
   "metadata": {},
   "outputs": [],
   "source": [
    "##  Building uncertainty objects allows for statistical uncertainty in the finesse.\n",
    "\n",
    "ave_separation = \n",
    "ave_width = \n",
    "print('\\nEXERCISE 1: FROM ANALYSIS OF GREEN LINE WITH I=0')\n",
    "print('Instrument finesse = {:.2uP}'.format(ave_separation/ave_width))"
   ]
  },
  {
   "cell_type": "markdown",
   "metadata": {},
   "source": [
    "## Green line with field on\n",
    "\n",
    "Now find the peaks in the scan with $I\\ne0$.  There are 9 good ones in each cycle.  You will need to adjust the minimum height parameter or prominence parameter in order to get the small ones."
   ]
  },
  {
   "cell_type": "code",
   "execution_count": null,
   "metadata": {},
   "outputs": [],
   "source": [
    "## Call the peak finding routine with the other data set.\n",
    "\n",
    "peaks,widths = find_and_plot_peaks()"
   ]
  },
  {
   "cell_type": "markdown",
   "metadata": {},
   "source": [
    "### Create nonlinear calibration\n",
    "\n",
    "First select the central peak locations in each cluster.  Do this with a slice, i.e., `centrals = peaks[4::9]`. This grabs from the array peaks 4,13,22, and 31, that is it skips by 9 staring at 4. Check the numbers against the plot to make sure they look right. \n",
    "\n",
    "Then fit the peak numbers (1,2,3,4) against the locations with a polynomial of degree 3.  Each number represents a change in energy by one FSR.  If for some reason you have only 3 cycles, use a quadratic (degree 2) polynomial."
   ]
  },
  {
   "cell_type": "code",
   "execution_count": null,
   "metadata": {},
   "outputs": [],
   "source": [
    "## Locate the central peaks in the `peaks` array and print them.\n",
    "\n",
    "centrals = \n",
    "print('Location of cetral peaks in each cluster: ',centrals)"
   ]
  },
  {
   "cell_type": "markdown",
   "metadata": {},
   "source": [
    "Now fit to a polynmial of degree 3."
   ]
  },
  {
   "cell_type": "code",
   "execution_count": null,
   "metadata": {},
   "outputs": [],
   "source": [
    "## Import the model\n",
    "from lmfit.models import PolynomialModel\n",
    "\n",
    "## set the model to make a 3rd-order ploynomial\n",
    "curve = PolynomialModel(degree=3)\n",
    "\n",
    "## Fit.  NOTE: the y-valuse should be the list of integers (peak numbers), and the x-values \n",
    "## should be the peak locations.\n",
    "green_curve = model_fit_and_plot()"
   ]
  },
  {
   "cell_type": "markdown",
   "metadata": {},
   "source": [
    "### Calibration function & Replot\n",
    "\n",
    "Use `eval()` to turn array index into units of FSR.  \n",
    "\n",
    "Then make an x-array that has values of the FSR for the same range of indicies, and plot the green-lines array against this FSR-valued array.  You should see the peaks become evenly space on this plot with the central peaks located at 1.0, 2.0, 3.0 and 4.0."
   ]
  },
  {
   "cell_type": "code",
   "execution_count": null,
   "metadata": {},
   "outputs": [],
   "source": [
    "## Make the calibration function, let eval() do the work.  \n",
    "## This way you do not need to directly deal with the fit coefficients\n",
    "def green_cal(x,model=curve,params=green_curve):\n",
    "        return model.eval(params, x=x)\n",
    "\n",
    "## Make an x-value array from the calibration function.  \n",
    "## This array will reset the horizontal axis to units of FSR\n",
    "x_0 = green_cal()\n",
    "\n",
    "## Plot the data against the rescaled axis.\n",
    "plt.title('Rescaled Green Line Scan')\n",
    "plt.xlabel(r'FSR')\n",
    "plt.ylabel(r'Ch 1 (normalized)')\n",
    "plt.plot(x_0, gr_B,'-', label='Green line, 3.612 A')\n",
    "plt.legend() \n",
    "plt.grid(); "
   ]
  },
  {
   "cell_type": "markdown",
   "metadata": {},
   "source": [
    "### Make a table of peak locations\n",
    "\n",
    "Apply the calibration to all of the peak locations.  Load the results into a table and display.  You should see the central peaks have locations of 1, 2, 3, 4 (or very close).  Hint: inlcude the heights at these locations to help identify peaks."
   ]
  },
  {
   "cell_type": "code",
   "execution_count": null,
   "metadata": {},
   "outputs": [],
   "source": [
    "## Make a table and show it.\n",
    "\n",
    "Green_scan_peaks = pd.DataFrame({\n",
    " ## Complete the dataframe\n",
    "})\n",
    "\n",
    "Green_scan_peaks"
   ]
  },
  {
   "cell_type": "markdown",
   "metadata": {},
   "source": [
    "### Get average spacing\n",
    "\n",
    "The challenge is to calculate the spacing between each central peak and the same satellite for that peak in each cluster.  Fortunately, Python slicing can do this in one gulp.  Each peak is separated from the same peak in the subsequent cycle by the same number of peaks (9).  To calculate the difference between the central peak of the first cluster and the very first peak, with the peak values in FSR units in an array `green_FSR`, one would write\n",
    "```\n",
    "green_FSR[0]-green_FSR[4]\n",
    "```\n",
    "To make an array of the same for all, one could write\n",
    "```\n",
    "green_FSR[0::9]-green_FSR[4::9]\n",
    "```\n",
    "And, to average, one could write\n",
    "```\n",
    "ave_shift_1 = np.mean(green_FSR[0::9]-green_FSR[4::9])\n",
    "```\n",
    "Finally to put all of the shifts in an array, you need to loop over the starting index:\n",
    "```\n",
    "ave_shifts = np.zeros(9)\n",
    "for i in range(0,9):\n",
    "    ave_shift[i] = np.mean(green_FSR[i::9]-green_FSR[4::9])\n",
    "```\n",
    "\n",
    "Make a data frame that holds these shifts (in units of FSR).  "
   ]
  },
  {
   "cell_type": "code",
   "execution_count": null,
   "metadata": {},
   "outputs": [],
   "source": [
    "## You can save things to an array by initializing an array of the proper size, or by initializing an empty\n",
    "## array and appending to it. \n",
    "\n",
    "pG = \n",
    "pG_std = \n",
    "\n",
    "## for loop goes over all peaks in a cluster\n",
    "for i in range(0,9):\n",
    "    pG[i] = \n",
    "    pG_std[i] = \n",
    "\n",
    "## Make a DataFrame and show it\n",
    "Green_peaks = pd.DataFrame({'Shift (FSR)':up.uarray(pG,pG_std)},index=range(-4,5))\n",
    "Green_peaks"
   ]
  },
  {
   "cell_type": "markdown",
   "metadata": {},
   "source": [
    "Then add a column to the dataframe that converts to units of $\\mu_BB$ using the conversion constant for green calculated earlier. \n",
    "\n",
    "Then add a column that shows the expected shift in units of $\\mu_BB$ so that they can be compared."
   ]
  },
  {
   "cell_type": "code",
   "execution_count": null,
   "metadata": {
    "scrolled": true
   },
   "outputs": [],
   "source": [
    "## Example\n",
    "Green_peaks['Shift (B*mu)']=conv_fact_green*Green_peaks\n",
    "Green_peaks['Theory (B*mu)']=\n",
    "Green_peaks"
   ]
  },
  {
   "cell_type": "markdown",
   "metadata": {},
   "source": [
    "## Analysis of Yellow Lines\n",
    "\n",
    "First read them in."
   ]
  },
  {
   "cell_type": "code",
   "execution_count": null,
   "metadata": {},
   "outputs": [],
   "source": [
    "Yellow_B0 = \n",
    "Yellow_1817 = "
   ]
  },
  {
   "cell_type": "markdown",
   "metadata": {},
   "source": [
    "### Trim, normalize and plot\n",
    "\n",
    "Do the same thing that you did with the green-line files."
   ]
  },
  {
   "cell_type": "code",
   "execution_count": null,
   "metadata": {},
   "outputs": [],
   "source": [
    "# Build normalized and trimmed data\n",
    "# Slice found by eye with iteration on plot\n",
    "# putting into new numpy array resets indices to start at zero\n",
    "\n",
    "yel_0 = \n",
    "yel_B = \n",
    "                \n",
    "# Offset and normalize-scale the data sets\n",
    "plt.ylim(-0.05,2.4)\n",
    "plt.xlabel(r'Time (index)')\n",
    "plt.ylabel(r'Ch 1 (normalized)')\n",
    "plt.plot(1.0+yel_0,'-', label='Yellow lines, 0 A')\n",
    "plt.plot(yel_B,'-', label='Yellow lines, 1.817 A')\n",
    "plt.legend() \n",
    "plt.grid(); "
   ]
  },
  {
   "cell_type": "markdown",
   "metadata": {},
   "source": [
    "### Find the peaks\n",
    "\n",
    "Work only on the $I\\ne0$ data. Locate the peaks, and plot the data with markers to make sure you have the correct ones. You should have 3 times the number of peaks you had in the $I=0$ scan."
   ]
  },
  {
   "cell_type": "code",
   "execution_count": null,
   "metadata": {},
   "outputs": [],
   "source": [
    "## Call the peak finding routine.  \n",
    "## You may want to increase the smoothing a little.  The yellow lines are noisier\n",
    "\n",
    "peaks,widths = find_and_plot_peaks()"
   ]
  },
  {
   "cell_type": "markdown",
   "metadata": {},
   "source": [
    "## Separate the two yellow series\n",
    "\n",
    "Because the yellow-lines scan contains two different wavelengths, you need to separate the peaks associated with 577 nm from the peaks associated with 579 nm.  One way to do this is by creating index lists to separate the two groups of peaks.  The 579 nm peaks are split from the central peak that is followed by a small side peak; the 577 nm peaks come from the other set.  To create the index lists, it is easiest to just write them by hand.  For example, for the 577 nm series, the central peaks are at indices 1, 7, 13, and 19 in the `peaks` array, and the side peaks are 1 up and 1 down from these.  Create an index list by\n",
    "```\n",
    "idx577 = np.array([0,1,2,6,7,8,12,13,14,18,19,20], dtype=int)\n",
    "```\n",
    "and the 579 nm series is found by adding 3 to all of the 577 nm indices:\n",
    "```\n",
    "idx579 = idx579 + 3\n",
    "```\n",
    "\n",
    "**Important:** the indices are NOT the peak locations, just the indices of the array that is `peaks`.  The peak locations would be at `peaks[idx577]`, for example."
   ]
  },
  {
   "cell_type": "markdown",
   "metadata": {},
   "source": [
    "Then use these indices to separate the peaks array into two independent sets.  These can then be analyzed in a manner identical to what was done with the green lines.  For each group:\n",
    "* Locate the cental peaks for each with a slice, except skip by 3 rather than 9, and start at 1 rather than 4.\n",
    "* Fit the central peaks to a polynomial curve and make a calibration function.\n",
    "* Plot the data set to x-values determined by the calibration function to make sure it's right.\n",
    "* Make a table of peak locations in units of FSR\n",
    "* Calculate differences of the side peaks from the central peaks, and average across the scan.\n",
    "* Rescale those differences in units of $\\mu_BB$\n",
    "* Make a table that shows the rescaled differences along side the values expected from theory."
   ]
  },
  {
   "cell_type": "code",
   "execution_count": null,
   "metadata": {},
   "outputs": [],
   "source": [
    "## Make the index arrays for the central peaks for the two series\n",
    "\n",
    "idx577 = \n",
    "idx579 = \n",
    "\n",
    "## Make two arrays of peak locations, one for 577 nm and one for 579 nm\n",
    "peaks577 = \n",
    "peaks579 = \n",
    "\n",
    "print('577 nm peaks at ',peaks577)\n",
    "print('579 nm peaks at ',peaks579)\n"
   ]
  },
  {
   "cell_type": "markdown",
   "metadata": {},
   "source": [
    "## Analysis for 577 nm Yellow lines\n",
    "\n",
    "### Get conversion calibration\n",
    "\n",
    "Fit the central peaks for the 577 nm part of the scan to get the coefficients to convert peak locations to FSR units, as was done for the green lines."
   ]
  },
  {
   "cell_type": "code",
   "execution_count": null,
   "metadata": {},
   "outputs": [],
   "source": [
    "## Locate central peaks\n",
    "\n",
    "centrals577 = \n",
    "\n",
    "## Fit to polynomial\n",
    "\n",
    "yel577_curve = model_fit_and_plot(,model=curve)"
   ]
  },
  {
   "cell_type": "markdown",
   "metadata": {},
   "source": [
    "### Make a calibration function\n",
    "\n",
    "And then plot the original data against the x-values using the calibration.  You should see the 577 centers at evenly spaced values of the free spectral range."
   ]
  },
  {
   "cell_type": "code",
   "execution_count": null,
   "metadata": {},
   "outputs": [],
   "source": [
    "def yel577_cal(x,model=curve,params=yel577_curve):\n",
    "        return ## complete function\n",
    "    \n",
    "## Make an x-value array from the calibration function.  \n",
    "## This array will reset the horizontal axis to units of FSR\n",
    "x_yel = \n",
    "\n",
    "# Plot\n"
   ]
  },
  {
   "cell_type": "markdown",
   "metadata": {},
   "source": [
    "### Print a table\n",
    "\n",
    "Show the 577 nm peak locations in units of FSR"
   ]
  },
  {
   "cell_type": "code",
   "execution_count": null,
   "metadata": {},
   "outputs": [],
   "source": [
    "## Useful to make a DataFame for display\n",
    "\n",
    "Yellow577_scan_peaks = pd.DataFrame({\n",
    "   # Complete\n",
    "})\n",
    "\n",
    "print('Locations of 577 nm peaks:')\n",
    "Yellow577_scan_peaks"
   ]
  },
  {
   "cell_type": "markdown",
   "metadata": {},
   "source": [
    "### Calculate differences and average\n",
    "\n",
    "Repeat what was done for green, except now there will only be one center peaks and two side peaks."
   ]
  },
  {
   "cell_type": "code",
   "execution_count": null,
   "metadata": {},
   "outputs": [],
   "source": [
    "## Need only 3 elements in the average arrays\n",
    "\n",
    "y577 = \n",
    "y577_std = \n",
    "\n",
    "for i in range(0,3):\n",
    "    y577[i] = \n",
    "    y577_std[i] = \n",
    "\n",
    "## Build uncertainty arrays (optional)\n",
    "Yellow577_peaks = pd.DataFrame()\n",
    "\n",
    "## Convert to mu*B units\n",
    "Yellow577_peaks['Energy (B*mu)']=conv_fact_yellow*Yellow577_peaks\n",
    "\n",
    "## Add in theory predictions \n",
    "Yellow577_peaks['Theory (B*mu)']=\n",
    "\n",
    "print('Averaged locations of 577 nm peaks:')\n",
    "Yellow577_peaks"
   ]
  },
  {
   "cell_type": "markdown",
   "metadata": {},
   "source": [
    "## Analysis for 579 nm Yellow lines\n",
    "\n",
    "### Get conversion calibration\n",
    "\n",
    "Fit the central peaks for the 579 nm part of the scan to get the coefficients to convert peak locations to FSR units, as was done for the green lines."
   ]
  },
  {
   "cell_type": "code",
   "execution_count": null,
   "metadata": {},
   "outputs": [],
   "source": [
    "## Select central peaks (start at 1 and skip by 3)\n",
    "\n",
    "centrals579 = \n",
    "\n",
    "yel579_curve = "
   ]
  },
  {
   "cell_type": "markdown",
   "metadata": {},
   "source": [
    "### Make a calibration function\n",
    "\n",
    "And then plot the original data against the x-values using the calibration.  **Now, You should see the 579 centers at evenly spaced values of the free spectral range.**"
   ]
  },
  {
   "cell_type": "code",
   "execution_count": null,
   "metadata": {},
   "outputs": [],
   "source": [
    "## define the calibration function\n",
    "\n",
    "def yel579_cal(x,model=curve,params=yel579_curve):\n",
    "        # Complete\n",
    "        \n",
    "## Make an x-value array from the calibration function.  \n",
    "## This array will reset the horizontal axis to units of FSR\n",
    "x_yel = \n",
    "\n",
    "# Plot\n"
   ]
  },
  {
   "cell_type": "markdown",
   "metadata": {},
   "source": [
    "### Print a table\n",
    "\n",
    "Show the **579 nm peak locations** in units of FSR"
   ]
  },
  {
   "cell_type": "code",
   "execution_count": null,
   "metadata": {},
   "outputs": [],
   "source": [
    "## Useful to make a DataFame for display\n",
    "\n",
    "Yellow579_scan_peaks = pd.DataFrame({\n",
    "   # Complete\n",
    "})\n",
    "\n",
    "print('Locations of 579 nm peaks:')\n",
    "Yellow579_scan_peaks"
   ]
  },
  {
   "cell_type": "markdown",
   "metadata": {},
   "source": [
    "### Calculate differences and average\n",
    "\n",
    "Repeat what was done for the 577 nm group above."
   ]
  },
  {
   "cell_type": "code",
   "execution_count": null,
   "metadata": {},
   "outputs": [],
   "source": [
    "## Copy above and modify as needed\n",
    "\n",
    "print('Averaged locations of 579 nm peaks:')\n",
    "Yellow579_peaks"
   ]
  },
  {
   "cell_type": "code",
   "execution_count": null,
   "metadata": {},
   "outputs": [],
   "source": []
  }
 ],
 "metadata": {
  "kernelspec": {
   "display_name": "Python 3 (ipykernel)",
   "language": "python",
   "name": "python3"
  },
  "language_info": {
   "codemirror_mode": {
    "name": "ipython",
    "version": 3
   },
   "file_extension": ".py",
   "mimetype": "text/x-python",
   "name": "python",
   "nbconvert_exporter": "python",
   "pygments_lexer": "ipython3",
   "version": "3.11.11"
  }
 },
 "nbformat": 4,
 "nbformat_minor": 4
}
